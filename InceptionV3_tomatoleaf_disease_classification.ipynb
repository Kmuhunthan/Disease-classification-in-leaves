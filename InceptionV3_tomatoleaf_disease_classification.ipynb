{
  "nbformat": 4,
  "nbformat_minor": 0,
  "metadata": {
    "colab": {
      "name": "InceptionV3_disease classification.ipynb",
      "provenance": []
    },
    "kernelspec": {
      "name": "python3",
      "display_name": "Python 3"
    },
    "accelerator": "GPU"
  },
  "cells": [
    {
      "cell_type": "code",
      "metadata": {
        "id": "sHks7bppvY_L"
      },
      "source": [
        "import tensorflow as tf\n",
        "import keras\n",
        "from keras.applications import InceptionV3\n",
        "from keras.optimizers import SGD, RMSprop, Adagrad, Adadelta, Adam, Adamax, Nadam\n",
        "from keras.models import Sequential\n",
        "from keras.preprocessing.image import ImageDataGenerator\n",
        "from keras.layers import Convolution2D, BatchNormalization, MaxPool2D, Flatten, Dense, Dropout, Lambda\n",
        "import matplotlib.pyplot as plt"
      ],
      "execution_count": 33,
      "outputs": []
    },
    {
      "cell_type": "code",
      "metadata": {
        "id": "XG92iaRGXNEQ"
      },
      "source": [
        "#The dataset is obtained from the following link\n",
        "#https://www.kaggle.com/noulam/tomato"
      ],
      "execution_count": null,
      "outputs": []
    },
    {
      "cell_type": "code",
      "metadata": {
        "id": "u3AvYP3ZwKWs"
      },
      "source": [
        "#The links to the google drive directory\n",
        "train = '/content/drive/My Drive/New Plant Diseases Dataset(Augmented)/train'\n",
        "valid = '/content/drive/My Drive/New Plant Diseases Dataset(Augmented)/valid'"
      ],
      "execution_count": 34,
      "outputs": []
    },
    {
      "cell_type": "code",
      "metadata": {
        "id": "PVTCsNQ10TWD"
      },
      "source": [
        "#Define the image size\n",
        "image_size = [224,224]"
      ],
      "execution_count": 35,
      "outputs": []
    },
    {
      "cell_type": "code",
      "metadata": {
        "id": "SJQDqYTd0M0o",
        "outputId": "dae204f7-d1f9-41f5-d788-6fd3c4b4068d",
        "colab": {
          "base_uri": "https://localhost:8080/",
          "height": 342
        }
      },
      "source": [
        "adam=Adam(lr=0.001, beta_1=0.9, beta_2=0.999, epsilon=None, decay=1e-6, amsgrad=False)\n",
        "\n",
        "\n",
        "# add preprocessing layer to the front of inceptionv3. We can remove the top and last layer of inceptionv3 model as we don't them. \n",
        "conv_base = tf.keras.applications.InceptionV3(\n",
        "    input_shape=(224,224,3),\n",
        "    include_top=False,\n",
        "    weights=\"imagenet\"\n",
        ")\n",
        "\n",
        "#No need to retrain the model since we directly use the imagenet weights\n",
        "conv_base.trainable = False\n",
        "conv_base.summary()\n",
        "#Adding the output fully connected layer with 10 nodes, and softmax activation. \n",
        "#Apart from that I have included a flatten layer following the convolutional base. \n",
        "model1 = Sequential()\n",
        "model1.add(conv_base)\n",
        "model1.add(Flatten())\n",
        "model1.add(Dense(500,activation=('relu')))\n",
        "model1.add(Dropout(0.4))\n",
        "model1.add(BatchNormalization())\n",
        "model1.add(Dense(10,activation=('softmax')))\n",
        "\n",
        "\n",
        "model1.summary()\n",
        "\n",
        "#Compile the model\n",
        "model1.compile(\n",
        "  loss='categorical_crossentropy',\n",
        "  optimizer=adam,\n",
        "  metrics=['accuracy']\n",
        ")"
      ],
      "execution_count": 36,
      "outputs": [
        {
          "output_type": "stream",
          "text": [
            "Model: \"sequential_5\"\n",
            "_________________________________________________________________\n",
            "Layer (type)                 Output Shape              Param #   \n",
            "=================================================================\n",
            "inception_v3 (Functional)    (None, 5, 5, 2048)        21802784  \n",
            "_________________________________________________________________\n",
            "flatten_5 (Flatten)          (None, 51200)             0         \n",
            "_________________________________________________________________\n",
            "dense_5 (Dense)              (None, 500)               25600500  \n",
            "_________________________________________________________________\n",
            "dropout (Dropout)            (None, 500)               0         \n",
            "_________________________________________________________________\n",
            "batch_normalization_376 (Bat (None, 500)               2000      \n",
            "_________________________________________________________________\n",
            "dense_6 (Dense)              (None, 10)                5010      \n",
            "=================================================================\n",
            "Total params: 47,410,294\n",
            "Trainable params: 25,606,510\n",
            "Non-trainable params: 21,803,784\n",
            "_________________________________________________________________\n"
          ],
          "name": "stdout"
        }
      ]
    },
    {
      "cell_type": "code",
      "metadata": {
        "id": "OBCs_qgD0qL-",
        "outputId": "b7513b8a-c15a-4710-9b0b-1f60d4868dac",
        "colab": {
          "base_uri": "https://localhost:8080/",
          "height": 50
        }
      },
      "source": [
        "#Adding data augmentation to the training images\n",
        "train_datagen = ImageDataGenerator(\n",
        "        rescale=1./255,\n",
        "        shear_range=0.2,\n",
        "        zoom_range=0.2,\n",
        "        horizontal_flip=True)\n",
        "\n",
        "#Rescaling or normalising the pixels in the image\n",
        "test_datagen = ImageDataGenerator(\n",
        "        rescale=1./255)\n",
        "\n",
        "#Using the flow from directory method to read the images directly from the google drive\n",
        "train_generator = train_datagen.flow_from_directory(\n",
        "    directory='/content/drive/My Drive/New Plant Diseases Dataset(Augmented)/train',\n",
        "    target_size=(224, 224),\n",
        "    batch_size=16,\n",
        "    class_mode=\"categorical\"\n",
        ")\n",
        "\n",
        "test_generator = test_datagen.flow_from_directory(\n",
        "    directory='/content/drive/My Drive/New Plant Diseases Dataset(Augmented)/valid',\n",
        "    target_size=(224, 224),\n",
        "    batch_size=16,\n",
        "    class_mode=\"categorical\"\n",
        ")"
      ],
      "execution_count": 37,
      "outputs": [
        {
          "output_type": "stream",
          "text": [
            "Found 18365 images belonging to 10 classes.\n",
            "Found 4595 images belonging to 10 classes.\n"
          ],
          "name": "stdout"
        }
      ]
    },
    {
      "cell_type": "code",
      "metadata": {
        "id": "gvMNgZ3Y5qV3",
        "outputId": "801b1a26-85ce-4017-d55f-b0a59ff23a66",
        "colab": {
          "base_uri": "https://localhost:8080/",
          "height": 342
        }
      },
      "source": [
        "#Model fitting stage\n",
        "history = model1.fit_generator(train_generator,\n",
        "                               epochs = 10, \n",
        "                               validation_data = test_generator,\n",
        "                               steps_per_epoch = len(train_generator),\n",
        "                               validation_steps = len(test_generator))"
      ],
      "execution_count": 38,
      "outputs": [
        {
          "output_type": "stream",
          "text": [
            "Epoch 1/10\n",
            "1148/1148 [==============================] - 290s 253ms/step - loss: 0.8554 - accuracy: 0.7172 - val_loss: 0.7226 - val_accuracy: 0.7545\n",
            "Epoch 2/10\n",
            "1148/1148 [==============================] - 285s 248ms/step - loss: 0.6568 - accuracy: 0.7799 - val_loss: 0.5406 - val_accuracy: 0.8298\n",
            "Epoch 3/10\n",
            "1148/1148 [==============================] - 285s 248ms/step - loss: 0.6302 - accuracy: 0.7887 - val_loss: 0.7713 - val_accuracy: 0.7706\n",
            "Epoch 4/10\n",
            "1148/1148 [==============================] - 270s 235ms/step - loss: 0.5597 - accuracy: 0.8126 - val_loss: 0.4715 - val_accuracy: 0.8568\n",
            "Epoch 5/10\n",
            "1148/1148 [==============================] - 256s 223ms/step - loss: 0.5328 - accuracy: 0.8201 - val_loss: 0.4597 - val_accuracy: 0.8501\n",
            "Epoch 6/10\n",
            "1148/1148 [==============================] - 252s 220ms/step - loss: 0.5156 - accuracy: 0.8267 - val_loss: 0.6306 - val_accuracy: 0.7961\n",
            "Epoch 7/10\n",
            "1148/1148 [==============================] - 251s 219ms/step - loss: 0.5066 - accuracy: 0.8291 - val_loss: 0.4091 - val_accuracy: 0.8659\n",
            "Epoch 8/10\n",
            "1148/1148 [==============================] - 251s 219ms/step - loss: 0.4941 - accuracy: 0.8326 - val_loss: 0.4677 - val_accuracy: 0.8307\n",
            "Epoch 9/10\n",
            "1148/1148 [==============================] - 252s 219ms/step - loss: 0.4882 - accuracy: 0.8356 - val_loss: 0.3440 - val_accuracy: 0.8814\n",
            "Epoch 10/10\n",
            "1148/1148 [==============================] - 251s 219ms/step - loss: 0.4559 - accuracy: 0.8446 - val_loss: 0.3866 - val_accuracy: 0.8607\n"
          ],
          "name": "stdout"
        }
      ]
    },
    {
      "cell_type": "code",
      "metadata": {
        "id": "UAbAWDXZ0S5L",
        "outputId": "0eae2eda-5838-43f4-f059-01065c2b8de1",
        "colab": {
          "base_uri": "https://localhost:8080/",
          "height": 572
        }
      },
      "source": [
        "#Plotting the accuracy and loss\n",
        "# summarize history for accuracy  \n",
        "  \n",
        "\n",
        "plt.plot(history.history['accuracy'])  \n",
        "plt.plot(history.history['val_accuracy'])  \n",
        "plt.title('model accuracy')  \n",
        "plt.ylabel('accuracy')  \n",
        "plt.xlabel('epoch')  \n",
        "plt.legend(['train', 'test'], loc='upper left')  \n",
        "plt.show()\n",
        " \n",
        " # summarize history for loss  \n",
        "  \n",
        "\n",
        "plt.plot(history.history['loss'])  \n",
        "plt.plot(history.history['val_loss'])  \n",
        "plt.title('model loss')  \n",
        "plt.ylabel('loss')  \n",
        "plt.xlabel('epoch')  \n",
        "plt.legend(['train', 'test'], loc='upper left')  \n",
        "plt.show()  "
      ],
      "execution_count": 40,
      "outputs": [
        {
          "output_type": "display_data",
          "data": {
            "image/png": "[encoded data removed]",
            "text/plain": [
              "<Figure size 432x288 with 1 Axes>"
            ]
          },
          "metadata": {
            "tags": [],
            "needs_background": "light"
          }
        },
        {
          "output_type": "display_data",
          "data": {
            "image/png": "[encoded data removed]",
            "text/plain": [
              "<Figure size 432x288 with 1 Axes>"
            ]
          },
          "metadata": {
            "tags": [],
            "needs_background": "light"
          }
        }
      ]
    },
    {
      "cell_type": "code",
      "metadata": {
        "id": "0_sab923YEFN",
        "outputId": "3c64afd8-e60d-4630-d8ec-4f5f52b59a6d",
        "colab": {
          "base_uri": "https://localhost:8080/",
          "height": 102
        }
      },
      "source": [
        "#Model evaluation\n",
        "model1.evaluate_generator(generator=test_generator,\n",
        "steps=len(test_generator))\n",
        "\n",
        "#The test accuracy is 86.07% with the Inceptionv3 model"
      ],
      "execution_count": 41,
      "outputs": [
        {
          "output_type": "stream",
          "text": [
            "WARNING:tensorflow:From <ipython-input-41-4d3ac0601ea6>:3: Model.evaluate_generator (from tensorflow.python.keras.engine.training) is deprecated and will be removed in a future version.\n",
            "Instructions for updating:\n",
            "Please use Model.evaluate, which supports generators.\n"
          ],
          "name": "stdout"
        },
        {
          "output_type": "execute_result",
          "data": {
            "text/plain": [
              "[0.3865845799446106, 0.8607181906700134]"
            ]
          },
          "metadata": {
            "tags": []
          },
          "execution_count": 41
        }
      ]
    }
  ]
}